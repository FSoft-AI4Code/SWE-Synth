{
 "cells": [
  {
   "cell_type": "code",
   "execution_count": 1,
   "metadata": {},
   "outputs": [],
   "source": [
    "import pandas as pd\n",
    "import json\n",
    "from datasets import load_dataset"
   ]
  },
  {
   "cell_type": "code",
   "execution_count": null,
   "metadata": {},
   "outputs": [],
   "source": [
    "data = load_dataset('swesynth/SWE-Synth', split='train').to_pandas()\n",
    "traj = load_dataset('swesynth/SWE-Synth_Moatless-SFT-Trajectories', split='train').to_pandas()\n",
    "variants_metadata = load_dataset('swesynth/SWE-Synth_Variants-Metadata', split='train').to_pandas()"
   ]
  },
  {
   "cell_type": "markdown",
   "metadata": {},
   "source": [
    "- Total # variants\n",
    "- Fix patches\n",
    "- Lines edited\n",
    "- Diff hunk\n",
    "- Files edited\n",
    "- Fail tests\n",
    "- Test log length\n",
    "- Steps per traj"
   ]
  },
  {
   "cell_type": "code",
   "execution_count": 9,
   "metadata": {},
   "outputs": [
    {
     "name": "stdout",
     "output_type": "stream",
     "text": [
      "Number of total variants: 9459\n",
      "Number of total trajectories / fix patches: 3018\n"
     ]
    }
   ],
   "source": [
    "print(f\"Number of total variants: {len(data)}\")\n",
    "print(f\"Number of total trajectories / fix patches: {len(traj)}\")"
   ]
  },
  {
   "cell_type": "code",
   "execution_count": 12,
   "metadata": {},
   "outputs": [
    {
     "name": "stdout",
     "output_type": "stream",
     "text": [
      "Number of variants per repo:\n"
     ]
    },
    {
     "data": {
      "text/plain": [
       "repo\n",
       "bokeh/bokeh                623\n",
       "conan-io/conan            1525\n",
       "dask/dask                  691\n",
       "facebookresearch/hydra    2525\n",
       "getmoto/moto               222\n",
       "iterative/dvc             1607\n",
       "pydantic/pydantic         2266\n",
       "Name: count, dtype: int64"
      ]
     },
     "execution_count": 12,
     "metadata": {},
     "output_type": "execute_result"
    }
   ],
   "source": [
    "print(\"Number of variants per repo:\")\n",
    "data['repo'].value_counts().sort_index()"
   ]
  },
  {
   "cell_type": "code",
   "execution_count": 14,
   "metadata": {},
   "outputs": [
    {
     "data": {
      "text/html": [
       "<div>\n",
       "<style scoped>\n",
       "    .dataframe tbody tr th:only-of-type {\n",
       "        vertical-align: middle;\n",
       "    }\n",
       "\n",
       "    .dataframe tbody tr th {\n",
       "        vertical-align: top;\n",
       "    }\n",
       "\n",
       "    .dataframe thead th {\n",
       "        text-align: right;\n",
       "    }\n",
       "</style>\n",
       "<table border=\"1\" class=\"dataframe\">\n",
       "  <thead>\n",
       "    <tr style=\"text-align: right;\">\n",
       "      <th></th>\n",
       "      <th>instance_id</th>\n",
       "      <th>repo</th>\n",
       "      <th>base_commit</th>\n",
       "      <th>version</th>\n",
       "      <th>setup_patch</th>\n",
       "      <th>patches</th>\n",
       "      <th>environment_setup_commit</th>\n",
       "      <th>FAIL_TO_PASS</th>\n",
       "      <th>PASS_TO_PASS</th>\n",
       "      <th>problem_statement</th>\n",
       "      <th>_metadata</th>\n",
       "    </tr>\n",
       "  </thead>\n",
       "  <tbody>\n",
       "    <tr>\n",
       "      <th>0</th>\n",
       "      <td>getmoto_moto-339309c9af4188006d9592469d52193f5...</td>\n",
       "      <td>getmoto/moto</td>\n",
       "      <td>339309c9af4188006d9592469d52193f57249b1e</td>\n",
       "      <td>4.1</td>\n",
       "      <td>--- a/moto/s3/exceptions.py\\n+++ b/moto/s3/exc...</td>\n",
       "      <td>None</td>\n",
       "      <td>339309c9af4188006d9592469d52193f57249b1e</td>\n",
       "      <td>[\"tests/test_s3/test_s3_acl.py::test_put_bucke...</td>\n",
       "      <td>[\"tests/test_sagemaker/test_sagemaker_endpoint...</td>\n",
       "      <td>=================================== FAILURES =...</td>\n",
       "      <td>{'reverse_patch_diff': '--- a/moto/s3/exceptio...</td>\n",
       "    </tr>\n",
       "    <tr>\n",
       "      <th>1</th>\n",
       "      <td>getmoto_moto-339309c9af4188006d9592469d52193f5...</td>\n",
       "      <td>getmoto/moto</td>\n",
       "      <td>339309c9af4188006d9592469d52193f57249b1e</td>\n",
       "      <td>4.1</td>\n",
       "      <td>--- a/moto/ec2/responses/spot_instances.py\\n++...</td>\n",
       "      <td>[diff --git a/moto/ec2/responses/spot_instance...</td>\n",
       "      <td>339309c9af4188006d9592469d52193f57249b1e</td>\n",
       "      <td>[\"tests/test_ec2/test_spot_instances.py::test_...</td>\n",
       "      <td>[\"tests/test_batch_simple/test_batch_jobs.py::...</td>\n",
       "      <td>=================================== FAILURES =...</td>\n",
       "      <td>{'reverse_patch_diff': '--- a/moto/ec2/respons...</td>\n",
       "    </tr>\n",
       "    <tr>\n",
       "      <th>2</th>\n",
       "      <td>getmoto_moto-339309c9af4188006d9592469d52193f5...</td>\n",
       "      <td>getmoto/moto</td>\n",
       "      <td>339309c9af4188006d9592469d52193f57249b1e</td>\n",
       "      <td>4.1</td>\n",
       "      <td>--- a/moto/s3/exceptions.py\\n+++ b/moto/s3/exc...</td>\n",
       "      <td>[diff --git a/moto/iam/access_control.py b/mot...</td>\n",
       "      <td>339309c9af4188006d9592469d52193f57249b1e</td>\n",
       "      <td>[\"tests/test_s3/test_s3_auth.py::test_load_une...</td>\n",
       "      <td>[\"tests/test_sagemaker/test_sagemaker_endpoint...</td>\n",
       "      <td>=================================== FAILURES =...</td>\n",
       "      <td>{'reverse_patch_diff': '--- a/moto/s3/exceptio...</td>\n",
       "    </tr>\n",
       "    <tr>\n",
       "      <th>3</th>\n",
       "      <td>getmoto_moto-339309c9af4188006d9592469d52193f5...</td>\n",
       "      <td>getmoto/moto</td>\n",
       "      <td>339309c9af4188006d9592469d52193f57249b1e</td>\n",
       "      <td>4.1</td>\n",
       "      <td>--- a/moto/s3/utils.py\\n+++ b/moto/s3/utils.py...</td>\n",
       "      <td>None</td>\n",
       "      <td>339309c9af4188006d9592469d52193f57249b1e</td>\n",
       "      <td>[\"tests/test_s3/test_s3.py::test_multiple_dele...</td>\n",
       "      <td>[\"tests/test_sagemaker/test_sagemaker_endpoint...</td>\n",
       "      <td>=================================== FAILURES =...</td>\n",
       "      <td>{'reverse_patch_diff': '--- a/moto/s3/utils.py...</td>\n",
       "    </tr>\n",
       "    <tr>\n",
       "      <th>4</th>\n",
       "      <td>getmoto_moto-339309c9af4188006d9592469d52193f5...</td>\n",
       "      <td>getmoto/moto</td>\n",
       "      <td>339309c9af4188006d9592469d52193f57249b1e</td>\n",
       "      <td>4.1</td>\n",
       "      <td>--- a/moto/cognitoidp/responses.py\\n+++ b/moto...</td>\n",
       "      <td>None</td>\n",
       "      <td>339309c9af4188006d9592469d52193f57249b1e</td>\n",
       "      <td>[\"tests/test_cognitoidp/test_cognitoidp.py::te...</td>\n",
       "      <td>[\"tests/test_cognitoidp/test_cognitoidp.py::te...</td>\n",
       "      <td>=================================== FAILURES =...</td>\n",
       "      <td>{'reverse_patch_diff': '--- a/moto/cognitoidp/...</td>\n",
       "    </tr>\n",
       "    <tr>\n",
       "      <th>...</th>\n",
       "      <td>...</td>\n",
       "      <td>...</td>\n",
       "      <td>...</td>\n",
       "      <td>...</td>\n",
       "      <td>...</td>\n",
       "      <td>...</td>\n",
       "      <td>...</td>\n",
       "      <td>...</td>\n",
       "      <td>...</td>\n",
       "      <td>...</td>\n",
       "      <td>...</td>\n",
       "    </tr>\n",
       "    <tr>\n",
       "      <th>9454</th>\n",
       "      <td>conan-io_conan-715264206ab3f7b1b438586a4cd2bc4...</td>\n",
       "      <td>conan-io/conan</td>\n",
       "      <td>715264206ab3f7b1b438586a4cd2bc4f07c7599d</td>\n",
       "      <td>1.55</td>\n",
       "      <td>--- a/conans/client/cache/cache.py\\n+++ b/cona...</td>\n",
       "      <td>None</td>\n",
       "      <td>715264206ab3f7b1b438586a4cd2bc4f07c7599d</td>\n",
       "      <td>[\"conans/test/integration/graph_lock/version_r...</td>\n",
       "      <td>[\"conans/test/integration/build_requires/profi...</td>\n",
       "      <td>=================================== FAILURES =...</td>\n",
       "      <td>{'reverse_patch_diff': '--- a/conans/client/ca...</td>\n",
       "    </tr>\n",
       "    <tr>\n",
       "      <th>9455</th>\n",
       "      <td>conan-io_conan-715264206ab3f7b1b438586a4cd2bc4...</td>\n",
       "      <td>conan-io/conan</td>\n",
       "      <td>715264206ab3f7b1b438586a4cd2bc4f07c7599d</td>\n",
       "      <td>1.55</td>\n",
       "      <td>--- a/conans/client/rest/rest_client.py\\n+++ b...</td>\n",
       "      <td>None</td>\n",
       "      <td>715264206ab3f7b1b438586a4cd2bc4f07c7599d</td>\n",
       "      <td>[\"conans/test/integration/command/remote_test....</td>\n",
       "      <td>[]</td>\n",
       "      <td>=================================== FAILURES =...</td>\n",
       "      <td>{'reverse_patch_diff': '--- a/conans/client/re...</td>\n",
       "    </tr>\n",
       "    <tr>\n",
       "      <th>9456</th>\n",
       "      <td>conan-io_conan-0c1624d2dd3b0278c1cf6f66f8dcc7b...</td>\n",
       "      <td>conan-io/conan</td>\n",
       "      <td>0c1624d2dd3b0278c1cf6f66f8dcc7bd1aa9ec48</td>\n",
       "      <td>2.0</td>\n",
       "      <td>--- a/conan/tools/build/__init__.py\\n+++ b/con...</td>\n",
       "      <td>None</td>\n",
       "      <td>0c1624d2dd3b0278c1cf6f66f8dcc7bd1aa9ec48</td>\n",
       "      <td>[\"conans/test/integration/toolchains/cmake/tes...</td>\n",
       "      <td>[\"conans/test/functional/toolchains/cmake/test...</td>\n",
       "      <td>=================================== FAILURES =...</td>\n",
       "      <td>{'reverse_patch_diff': '--- a/conan/tools/buil...</td>\n",
       "    </tr>\n",
       "    <tr>\n",
       "      <th>9457</th>\n",
       "      <td>conan-io_conan-0c1624d2dd3b0278c1cf6f66f8dcc7b...</td>\n",
       "      <td>conan-io/conan</td>\n",
       "      <td>0c1624d2dd3b0278c1cf6f66f8dcc7bd1aa9ec48</td>\n",
       "      <td>2.0</td>\n",
       "      <td>--- a/conan/cli/commands/config.py\\n+++ b/cona...</td>\n",
       "      <td>None</td>\n",
       "      <td>0c1624d2dd3b0278c1cf6f66f8dcc7bd1aa9ec48</td>\n",
       "      <td>[\"conans/test/integration/command/config_test....</td>\n",
       "      <td>[]</td>\n",
       "      <td>=================================== FAILURES =...</td>\n",
       "      <td>{'reverse_patch_diff': '--- a/conan/cli/comman...</td>\n",
       "    </tr>\n",
       "    <tr>\n",
       "      <th>9458</th>\n",
       "      <td>conan-io_conan-0c1624d2dd3b0278c1cf6f66f8dcc7b...</td>\n",
       "      <td>conan-io/conan</td>\n",
       "      <td>0c1624d2dd3b0278c1cf6f66f8dcc7bd1aa9ec48</td>\n",
       "      <td>2.0</td>\n",
       "      <td>--- a/conans/test/utils/tools.py\\n+++ b/conans...</td>\n",
       "      <td>None</td>\n",
       "      <td>0c1624d2dd3b0278c1cf6f66f8dcc7bd1aa9ec48</td>\n",
       "      <td>[\"conans/test/integration/command/info/info_te...</td>\n",
       "      <td>[\"conans/test/integration/command_v2/list_test...</td>\n",
       "      <td>=================================== FAILURES =...</td>\n",
       "      <td>{'reverse_patch_diff': '--- a/conans/test/util...</td>\n",
       "    </tr>\n",
       "  </tbody>\n",
       "</table>\n",
       "<p>9459 rows × 11 columns</p>\n",
       "</div>"
      ],
      "text/plain": [
       "                                            instance_id            repo  \\\n",
       "0     getmoto_moto-339309c9af4188006d9592469d52193f5...    getmoto/moto   \n",
       "1     getmoto_moto-339309c9af4188006d9592469d52193f5...    getmoto/moto   \n",
       "2     getmoto_moto-339309c9af4188006d9592469d52193f5...    getmoto/moto   \n",
       "3     getmoto_moto-339309c9af4188006d9592469d52193f5...    getmoto/moto   \n",
       "4     getmoto_moto-339309c9af4188006d9592469d52193f5...    getmoto/moto   \n",
       "...                                                 ...             ...   \n",
       "9454  conan-io_conan-715264206ab3f7b1b438586a4cd2bc4...  conan-io/conan   \n",
       "9455  conan-io_conan-715264206ab3f7b1b438586a4cd2bc4...  conan-io/conan   \n",
       "9456  conan-io_conan-0c1624d2dd3b0278c1cf6f66f8dcc7b...  conan-io/conan   \n",
       "9457  conan-io_conan-0c1624d2dd3b0278c1cf6f66f8dcc7b...  conan-io/conan   \n",
       "9458  conan-io_conan-0c1624d2dd3b0278c1cf6f66f8dcc7b...  conan-io/conan   \n",
       "\n",
       "                                   base_commit version  \\\n",
       "0     339309c9af4188006d9592469d52193f57249b1e     4.1   \n",
       "1     339309c9af4188006d9592469d52193f57249b1e     4.1   \n",
       "2     339309c9af4188006d9592469d52193f57249b1e     4.1   \n",
       "3     339309c9af4188006d9592469d52193f57249b1e     4.1   \n",
       "4     339309c9af4188006d9592469d52193f57249b1e     4.1   \n",
       "...                                        ...     ...   \n",
       "9454  715264206ab3f7b1b438586a4cd2bc4f07c7599d    1.55   \n",
       "9455  715264206ab3f7b1b438586a4cd2bc4f07c7599d    1.55   \n",
       "9456  0c1624d2dd3b0278c1cf6f66f8dcc7bd1aa9ec48     2.0   \n",
       "9457  0c1624d2dd3b0278c1cf6f66f8dcc7bd1aa9ec48     2.0   \n",
       "9458  0c1624d2dd3b0278c1cf6f66f8dcc7bd1aa9ec48     2.0   \n",
       "\n",
       "                                            setup_patch  \\\n",
       "0     --- a/moto/s3/exceptions.py\\n+++ b/moto/s3/exc...   \n",
       "1     --- a/moto/ec2/responses/spot_instances.py\\n++...   \n",
       "2     --- a/moto/s3/exceptions.py\\n+++ b/moto/s3/exc...   \n",
       "3     --- a/moto/s3/utils.py\\n+++ b/moto/s3/utils.py...   \n",
       "4     --- a/moto/cognitoidp/responses.py\\n+++ b/moto...   \n",
       "...                                                 ...   \n",
       "9454  --- a/conans/client/cache/cache.py\\n+++ b/cona...   \n",
       "9455  --- a/conans/client/rest/rest_client.py\\n+++ b...   \n",
       "9456  --- a/conan/tools/build/__init__.py\\n+++ b/con...   \n",
       "9457  --- a/conan/cli/commands/config.py\\n+++ b/cona...   \n",
       "9458  --- a/conans/test/utils/tools.py\\n+++ b/conans...   \n",
       "\n",
       "                                                patches  \\\n",
       "0                                                  None   \n",
       "1     [diff --git a/moto/ec2/responses/spot_instance...   \n",
       "2     [diff --git a/moto/iam/access_control.py b/mot...   \n",
       "3                                                  None   \n",
       "4                                                  None   \n",
       "...                                                 ...   \n",
       "9454                                               None   \n",
       "9455                                               None   \n",
       "9456                                               None   \n",
       "9457                                               None   \n",
       "9458                                               None   \n",
       "\n",
       "                      environment_setup_commit  \\\n",
       "0     339309c9af4188006d9592469d52193f57249b1e   \n",
       "1     339309c9af4188006d9592469d52193f57249b1e   \n",
       "2     339309c9af4188006d9592469d52193f57249b1e   \n",
       "3     339309c9af4188006d9592469d52193f57249b1e   \n",
       "4     339309c9af4188006d9592469d52193f57249b1e   \n",
       "...                                        ...   \n",
       "9454  715264206ab3f7b1b438586a4cd2bc4f07c7599d   \n",
       "9455  715264206ab3f7b1b438586a4cd2bc4f07c7599d   \n",
       "9456  0c1624d2dd3b0278c1cf6f66f8dcc7bd1aa9ec48   \n",
       "9457  0c1624d2dd3b0278c1cf6f66f8dcc7bd1aa9ec48   \n",
       "9458  0c1624d2dd3b0278c1cf6f66f8dcc7bd1aa9ec48   \n",
       "\n",
       "                                           FAIL_TO_PASS  \\\n",
       "0     [\"tests/test_s3/test_s3_acl.py::test_put_bucke...   \n",
       "1     [\"tests/test_ec2/test_spot_instances.py::test_...   \n",
       "2     [\"tests/test_s3/test_s3_auth.py::test_load_une...   \n",
       "3     [\"tests/test_s3/test_s3.py::test_multiple_dele...   \n",
       "4     [\"tests/test_cognitoidp/test_cognitoidp.py::te...   \n",
       "...                                                 ...   \n",
       "9454  [\"conans/test/integration/graph_lock/version_r...   \n",
       "9455  [\"conans/test/integration/command/remote_test....   \n",
       "9456  [\"conans/test/integration/toolchains/cmake/tes...   \n",
       "9457  [\"conans/test/integration/command/config_test....   \n",
       "9458  [\"conans/test/integration/command/info/info_te...   \n",
       "\n",
       "                                           PASS_TO_PASS  \\\n",
       "0     [\"tests/test_sagemaker/test_sagemaker_endpoint...   \n",
       "1     [\"tests/test_batch_simple/test_batch_jobs.py::...   \n",
       "2     [\"tests/test_sagemaker/test_sagemaker_endpoint...   \n",
       "3     [\"tests/test_sagemaker/test_sagemaker_endpoint...   \n",
       "4     [\"tests/test_cognitoidp/test_cognitoidp.py::te...   \n",
       "...                                                 ...   \n",
       "9454  [\"conans/test/integration/build_requires/profi...   \n",
       "9455                                                 []   \n",
       "9456  [\"conans/test/functional/toolchains/cmake/test...   \n",
       "9457                                                 []   \n",
       "9458  [\"conans/test/integration/command_v2/list_test...   \n",
       "\n",
       "                                      problem_statement  \\\n",
       "0     =================================== FAILURES =...   \n",
       "1     =================================== FAILURES =...   \n",
       "2     =================================== FAILURES =...   \n",
       "3     =================================== FAILURES =...   \n",
       "4     =================================== FAILURES =...   \n",
       "...                                                 ...   \n",
       "9454  =================================== FAILURES =...   \n",
       "9455  =================================== FAILURES =...   \n",
       "9456  =================================== FAILURES =...   \n",
       "9457  =================================== FAILURES =...   \n",
       "9458  =================================== FAILURES =...   \n",
       "\n",
       "                                              _metadata  \n",
       "0     {'reverse_patch_diff': '--- a/moto/s3/exceptio...  \n",
       "1     {'reverse_patch_diff': '--- a/moto/ec2/respons...  \n",
       "2     {'reverse_patch_diff': '--- a/moto/s3/exceptio...  \n",
       "3     {'reverse_patch_diff': '--- a/moto/s3/utils.py...  \n",
       "4     {'reverse_patch_diff': '--- a/moto/cognitoidp/...  \n",
       "...                                                 ...  \n",
       "9454  {'reverse_patch_diff': '--- a/conans/client/ca...  \n",
       "9455  {'reverse_patch_diff': '--- a/conans/client/re...  \n",
       "9456  {'reverse_patch_diff': '--- a/conan/tools/buil...  \n",
       "9457  {'reverse_patch_diff': '--- a/conan/cli/comman...  \n",
       "9458  {'reverse_patch_diff': '--- a/conans/test/util...  \n",
       "\n",
       "[9459 rows x 11 columns]"
      ]
     },
     "execution_count": 14,
     "metadata": {},
     "output_type": "execute_result"
    }
   ],
   "source": [
    "data"
   ]
  },
  {
   "cell_type": "markdown",
   "metadata": {},
   "source": [
    "## Test cases"
   ]
  },
  {
   "cell_type": "code",
   "execution_count": 25,
   "metadata": {},
   "outputs": [
    {
     "data": {
      "text/html": [
       "<div>\n",
       "<style scoped>\n",
       "    .dataframe tbody tr th:only-of-type {\n",
       "        vertical-align: middle;\n",
       "    }\n",
       "\n",
       "    .dataframe tbody tr th {\n",
       "        vertical-align: top;\n",
       "    }\n",
       "\n",
       "    .dataframe thead th {\n",
       "        text-align: right;\n",
       "    }\n",
       "</style>\n",
       "<table border=\"1\" class=\"dataframe\">\n",
       "  <thead>\n",
       "    <tr style=\"text-align: right;\">\n",
       "      <th></th>\n",
       "      <th>num_fail_to_pass</th>\n",
       "      <th>num_total_test_case</th>\n",
       "    </tr>\n",
       "  </thead>\n",
       "  <tbody>\n",
       "    <tr>\n",
       "      <th>mean</th>\n",
       "      <td>107.531346</td>\n",
       "      <td>254.918279</td>\n",
       "    </tr>\n",
       "    <tr>\n",
       "      <th>median</th>\n",
       "      <td>8.000000</td>\n",
       "      <td>72.000000</td>\n",
       "    </tr>\n",
       "  </tbody>\n",
       "</table>\n",
       "</div>"
      ],
      "text/plain": [
       "        num_fail_to_pass  num_total_test_case\n",
       "mean          107.531346           254.918279\n",
       "median          8.000000            72.000000"
      ]
     },
     "execution_count": 25,
     "metadata": {},
     "output_type": "execute_result"
    }
   ],
   "source": [
    "(\n",
    "    data\n",
    "    .assign(\n",
    "        FAIL_TO_PASS=lambda x: x['FAIL_TO_PASS'].apply(json.loads),\n",
    "        PASS_TO_PASS=lambda x: x['PASS_TO_PASS'].apply(json.loads),\n",
    "        num_fail_to_pass=lambda x: x['FAIL_TO_PASS'].apply(len),\n",
    "        num_total_test_case=lambda x: x['FAIL_TO_PASS'].apply(len) + x['PASS_TO_PASS'].apply(len),\n",
    "    )\n",
    "    .agg({\n",
    "        'num_fail_to_pass': ['mean', 'median'],\n",
    "        'num_total_test_case': ['mean', 'median'],\n",
    "    })\n",
    ")"
   ]
  },
  {
   "cell_type": "code",
   "execution_count": 27,
   "metadata": {},
   "outputs": [
    {
     "data": {
      "text/plain": [
       "repo\n",
       "bokeh/bokeh                3\n",
       "conan-io/conan             8\n",
       "dask/dask                 18\n",
       "facebookresearch/hydra    13\n",
       "getmoto/moto               3\n",
       "iterative/dvc              6\n",
       "pydantic/pydantic          9\n",
       "Name: num_fail_to_pass, dtype: int64"
      ]
     },
     "execution_count": 27,
     "metadata": {},
     "output_type": "execute_result"
    }
   ],
   "source": [
    "(\n",
    "    data\n",
    "    .assign(\n",
    "        FAIL_TO_PASS=lambda x: x['FAIL_TO_PASS'].apply(json.loads),\n",
    "        PASS_TO_PASS=lambda x: x['PASS_TO_PASS'].apply(json.loads),\n",
    "        num_fail_to_pass=lambda x: x['FAIL_TO_PASS'].apply(len),\n",
    "        num_total_test_case=lambda x: x['FAIL_TO_PASS'].apply(len) + x['PASS_TO_PASS'].apply(len),\n",
    "    )\n",
    "    .groupby('repo')['num_fail_to_pass'].median().astype(int)\n",
    ")"
   ]
  },
  {
   "cell_type": "markdown",
   "metadata": {},
   "source": [
    "## Patch analysis"
   ]
  },
  {
   "cell_type": "code",
   "execution_count": null,
   "metadata": {},
   "outputs": [],
   "source": [
    "# Helper functions\n",
    "\n",
    "import re\n",
    "from unidiff import PatchSet\n",
    "\n",
    "def count_diff_hunks(patch_diff):\n",
    "    patch_set = PatchSet(patch_diff)\n",
    "    hunk_count = sum(len(file) for file in patch_set)  # Each file contains hunks\n",
    "    return hunk_count\n",
    "\n",
    "def get_changed_files_from_diff(diff: str) -> set[str]:\n",
    "    source_files = {\n",
    "        patch_file.path\n",
    "        for patch_file in PatchSet(diff)\n",
    "    }\n",
    "    return source_files\n",
    "\n",
    "def count_edited_lines(patch: str) -> int:\n",
    "    added_lines = 0\n",
    "    removed_lines = 0\n",
    "    \n",
    "    for line in patch.splitlines():\n",
    "        if line.startswith('+') and not line.startswith('+++'):\n",
    "            added_lines += 1\n",
    "        elif line.startswith('-') and not line.startswith('---'):\n",
    "            removed_lines += 1\n",
    "    \n",
    "    total_changes = added_lines + removed_lines\n",
    "    return total_changes\n"
   ]
  },
  {
   "cell_type": "code",
   "execution_count": 38,
   "metadata": {},
   "outputs": [
    {
     "data": {
      "text/html": [
       "<div>\n",
       "<style scoped>\n",
       "    .dataframe tbody tr th:only-of-type {\n",
       "        vertical-align: middle;\n",
       "    }\n",
       "\n",
       "    .dataframe tbody tr th {\n",
       "        vertical-align: top;\n",
       "    }\n",
       "\n",
       "    .dataframe thead th {\n",
       "        text-align: right;\n",
       "    }\n",
       "</style>\n",
       "<table border=\"1\" class=\"dataframe\">\n",
       "  <thead>\n",
       "    <tr style=\"text-align: right;\">\n",
       "      <th></th>\n",
       "      <th>num_edited_lines</th>\n",
       "      <th>num_diff_hunks</th>\n",
       "      <th>num_changed_files</th>\n",
       "    </tr>\n",
       "    <tr>\n",
       "      <th>repo</th>\n",
       "      <th></th>\n",
       "      <th></th>\n",
       "      <th></th>\n",
       "    </tr>\n",
       "  </thead>\n",
       "  <tbody>\n",
       "    <tr>\n",
       "      <th>bokeh/bokeh</th>\n",
       "      <td>4.95</td>\n",
       "      <td>1.22</td>\n",
       "      <td>1.08</td>\n",
       "    </tr>\n",
       "    <tr>\n",
       "      <th>conan-io/conan</th>\n",
       "      <td>6.00</td>\n",
       "      <td>1.36</td>\n",
       "      <td>1.05</td>\n",
       "    </tr>\n",
       "    <tr>\n",
       "      <th>dask/dask</th>\n",
       "      <td>7.87</td>\n",
       "      <td>1.22</td>\n",
       "      <td>1.02</td>\n",
       "    </tr>\n",
       "    <tr>\n",
       "      <th>facebookresearch/hydra</th>\n",
       "      <td>5.11</td>\n",
       "      <td>1.18</td>\n",
       "      <td>1.04</td>\n",
       "    </tr>\n",
       "    <tr>\n",
       "      <th>getmoto/moto</th>\n",
       "      <td>5.68</td>\n",
       "      <td>1.31</td>\n",
       "      <td>1.04</td>\n",
       "    </tr>\n",
       "    <tr>\n",
       "      <th>iterative/dvc</th>\n",
       "      <td>6.34</td>\n",
       "      <td>1.25</td>\n",
       "      <td>1.06</td>\n",
       "    </tr>\n",
       "    <tr>\n",
       "      <th>pydantic/pydantic</th>\n",
       "      <td>5.88</td>\n",
       "      <td>1.27</td>\n",
       "      <td>1.09</td>\n",
       "    </tr>\n",
       "  </tbody>\n",
       "</table>\n",
       "</div>"
      ],
      "text/plain": [
       "                        num_edited_lines  num_diff_hunks  num_changed_files\n",
       "repo                                                                       \n",
       "bokeh/bokeh                         4.95            1.22               1.08\n",
       "conan-io/conan                      6.00            1.36               1.05\n",
       "dask/dask                           7.87            1.22               1.02\n",
       "facebookresearch/hydra              5.11            1.18               1.04\n",
       "getmoto/moto                        5.68            1.31               1.04\n",
       "iterative/dvc                       6.34            1.25               1.06\n",
       "pydantic/pydantic                   5.88            1.27               1.09"
      ]
     },
     "metadata": {},
     "output_type": "display_data"
    },
    {
     "name": "stdout",
     "output_type": "stream",
     "text": [
      "Mean across all repos:\n"
     ]
    },
    {
     "data": {
      "text/plain": [
       "num_edited_lines    5.73\n",
       "num_diff_hunks      1.25\n",
       "num_changed_files   1.06\n",
       "dtype: float64"
      ]
     },
     "metadata": {},
     "output_type": "display_data"
    }
   ],
   "source": [
    "with pd.option_context('display.float_format', '{:.2f}'.format):\n",
    "    display(\n",
    "        data\n",
    "        [['repo', 'patches']]\n",
    "        .explode('patches').rename(columns={'patches': 'patch'}).dropna()\n",
    "        .assign(\n",
    "            num_edited_lines=lambda x: x['patch'].apply(count_edited_lines),\n",
    "            num_diff_hunks=lambda x: x['patch'].apply(count_diff_hunks),\n",
    "            num_changed_files=lambda x: x['patch'].apply(lambda x: len(get_changed_files_from_diff(x))),\n",
    "        )\n",
    "        .groupby('repo')\n",
    "        .agg({\n",
    "            'num_edited_lines': 'mean',\n",
    "            'num_diff_hunks': 'mean',\n",
    "            'num_changed_files': 'mean',\n",
    "        })\n",
    "    )\n",
    "\n",
    "    print(\"Mean across all repos:\")\n",
    "    display(\n",
    "        data\n",
    "        [['repo', 'patches']]\n",
    "        .explode('patches').rename(columns={'patches': 'patch'}).dropna()\n",
    "        .assign(\n",
    "            num_edited_lines=lambda x: x['patch'].apply(count_edited_lines),\n",
    "            num_diff_hunks=lambda x: x['patch'].apply(count_diff_hunks),\n",
    "            num_changed_files=lambda x: x['patch'].apply(lambda x: len(get_changed_files_from_diff(x))),\n",
    "        )\n",
    "        .agg({\n",
    "            'num_edited_lines': 'mean',\n",
    "            'num_diff_hunks': 'mean',\n",
    "            'num_changed_files': 'mean',\n",
    "        })\n",
    "    )"
   ]
  },
  {
   "cell_type": "markdown",
   "metadata": {},
   "source": [
    "## Number steps per trajectory"
   ]
  },
  {
   "cell_type": "code",
   "execution_count": 51,
   "metadata": {},
   "outputs": [
    {
     "name": "stdout",
     "output_type": "stream",
     "text": [
      "Avg number of steps per trajectory:\n"
     ]
    },
    {
     "data": {
      "text/plain": [
       "8.68"
      ]
     },
     "execution_count": 51,
     "metadata": {},
     "output_type": "execute_result"
    }
   ],
   "source": [
    "print(\"Avg number of steps per trajectory:\")\n",
    "traj['messages'].apply(len).mean().round(2)"
   ]
  },
  {
   "cell_type": "code",
   "execution_count": 55,
   "metadata": {},
   "outputs": [
    {
     "data": {
      "text/plain": [
       "repo\n",
       "bokeh/bokeh              9.34\n",
       "conan-io/conan           8.32\n",
       "dask/dask                7.43\n",
       "facebookresearch/hydra   8.65\n",
       "getmoto/moto             9.28\n",
       "iterative/dvc            8.62\n",
       "pydantic/pydantic        8.64\n",
       "Name: traj_length, dtype: float64"
      ]
     },
     "metadata": {},
     "output_type": "display_data"
    }
   ],
   "source": [
    "with pd.option_context('display.float_format', '{:.2f}'.format):\n",
    "    display(\n",
    "        data\n",
    "        .merge(traj, on='instance_id')\n",
    "        .assign(traj_length=lambda x: x['messages'].apply(len))\n",
    "        .groupby('repo')['traj_length'].mean()\n",
    "    )"
   ]
  },
  {
   "cell_type": "markdown",
   "metadata": {},
   "source": [
    "## Test log length"
   ]
  },
  {
   "cell_type": "code",
   "execution_count": 10,
   "metadata": {},
   "outputs": [],
   "source": [
    "from transformers import AutoTokenizer\n",
    "tokenizer = AutoTokenizer.from_pretrained(\"Qwen/Qwen2.5-Coder-32B-Instruct\")\n",
    "def count_tokens(text: str) -> int:\n",
    "    tokens = tokenizer.encode(text, add_special_tokens=False)\n",
    "    return len(tokens)"
   ]
  },
  {
   "cell_type": "code",
   "execution_count": 11,
   "metadata": {},
   "outputs": [
    {
     "name": "stderr",
     "output_type": "stream",
     "text": [
      "Map (num_proc=40):   0%|          | 0/9459 [00:00<?, ? examples/s]Token indices sequence length is longer than the specified maximum sequence length for this model (35261 > 32768). Running this sequence through the model will result in indexing errors\n",
      "Map (num_proc=40):   0%|          | 18/9459 [00:30<2:17:22,  1.15 examples/s]Token indices sequence length is longer than the specified maximum sequence length for this model (2940214 > 32768). Running this sequence through the model will result in indexing errors\n",
      "Map (num_proc=40):   0%|          | 23/9459 [00:57<7:53:14,  3.01s/ examples]Token indices sequence length is longer than the specified maximum sequence length for this model (237811 > 32768). Running this sequence through the model will result in indexing errors\n",
      "Map (num_proc=40):   1%|          | 103/9459 [01:17<56:01,  2.78 examples/s] Token indices sequence length is longer than the specified maximum sequence length for this model (3026518 > 32768). Running this sequence through the model will result in indexing errors\n",
      "Token indices sequence length is longer than the specified maximum sequence length for this model (438629 > 32768). Running this sequence through the model will result in indexing errors\n",
      "Map (num_proc=40):   1%|▏         | 138/9459 [01:35<1:07:06,  2.31 examples/s]Token indices sequence length is longer than the specified maximum sequence length for this model (1708521 > 32768). Running this sequence through the model will result in indexing errors\n",
      "Map (num_proc=40):   2%|▏         | 163/9459 [01:40<32:52,  4.71 examples/s]  Token indices sequence length is longer than the specified maximum sequence length for this model (320046 > 32768). Running this sequence through the model will result in indexing errors\n",
      "Map (num_proc=40):   4%|▍         | 390/9459 [02:19<20:35,  7.34 examples/s]  Token indices sequence length is longer than the specified maximum sequence length for this model (1115735 > 32768). Running this sequence through the model will result in indexing errors\n",
      "Map (num_proc=40):   5%|▍         | 449/9459 [02:32<34:08,  4.40 examples/s]  Token indices sequence length is longer than the specified maximum sequence length for this model (3781333 > 32768). Running this sequence through the model will result in indexing errors\n",
      "Map (num_proc=40):   5%|▍         | 451/9459 [02:35<1:13:23,  2.05 examples/s]Token indices sequence length is longer than the specified maximum sequence length for this model (78105 > 32768). Running this sequence through the model will result in indexing errors\n",
      "Map (num_proc=40):   6%|▌         | 537/9459 [02:48<56:35,  2.63 examples/s]  Token indices sequence length is longer than the specified maximum sequence length for this model (399588 > 32768). Running this sequence through the model will result in indexing errors\n",
      "Map (num_proc=40):   8%|▊         | 722/9459 [03:07<07:50, 18.55 examples/s]  Token indices sequence length is longer than the specified maximum sequence length for this model (1817476 > 32768). Running this sequence through the model will result in indexing errors\n",
      "Map (num_proc=40):   8%|▊         | 802/9459 [03:20<1:19:56,  1.80 examples/s]Token indices sequence length is longer than the specified maximum sequence length for this model (61261 > 32768). Running this sequence through the model will result in indexing errors\n",
      "Map (num_proc=40):  11%|█         | 1053/9459 [03:28<10:45, 13.03 examples/s] Token indices sequence length is longer than the specified maximum sequence length for this model (165230 > 32768). Running this sequence through the model will result in indexing errors\n",
      "Map (num_proc=40):  15%|█▌        | 1442/9459 [03:34<01:44, 76.48 examples/s]Token indices sequence length is longer than the specified maximum sequence length for this model (563717 > 32768). Running this sequence through the model will result in indexing errors\n",
      "Map (num_proc=40):  20%|██        | 1894/9459 [04:17<09:18, 13.53 examples/s]Token indices sequence length is longer than the specified maximum sequence length for this model (138875 > 32768). Running this sequence through the model will result in indexing errors\n",
      "Map (num_proc=40):  20%|██        | 1935/9459 [04:26<1:30:05,  1.39 examples/s]Token indices sequence length is longer than the specified maximum sequence length for this model (141040 > 32768). Running this sequence through the model will result in indexing errors\n",
      "Map (num_proc=40):  21%|██▏       | 2026/9459 [04:37<37:16,  3.32 examples/s]  Token indices sequence length is longer than the specified maximum sequence length for this model (447977 > 32768). Running this sequence through the model will result in indexing errors\n",
      "Map (num_proc=40):  22%|██▏       | 2128/9459 [04:51<1:04:35,  1.89 examples/s]Token indices sequence length is longer than the specified maximum sequence length for this model (394293 > 32768). Running this sequence through the model will result in indexing errors\n",
      "Map (num_proc=40):  24%|██▍       | 2262/9459 [05:06<38:19,  3.13 examples/s]  Token indices sequence length is longer than the specified maximum sequence length for this model (128023 > 32768). Running this sequence through the model will result in indexing errors\n",
      "Map (num_proc=40):  26%|██▌       | 2432/9459 [05:20<44:17,  2.64 examples/s]  Token indices sequence length is longer than the specified maximum sequence length for this model (437181 > 32768). Running this sequence through the model will result in indexing errors\n",
      "Map (num_proc=40):  27%|██▋       | 2582/9459 [05:35<45:14,  2.53 examples/s]  Token indices sequence length is longer than the specified maximum sequence length for this model (99315 > 32768). Running this sequence through the model will result in indexing errors\n",
      "Map (num_proc=40):  31%|███       | 2894/9459 [05:48<05:25, 20.15 examples/s]  Token indices sequence length is longer than the specified maximum sequence length for this model (162768 > 32768). Running this sequence through the model will result in indexing errors\n",
      "Map (num_proc=40):  39%|███▉      | 3707/9459 [06:18<04:03, 23.62 examples/s]Token indices sequence length is longer than the specified maximum sequence length for this model (4461893 > 32768). Running this sequence through the model will result in indexing errors\n",
      "Map (num_proc=40):  41%|████▏     | 3915/9459 [06:36<06:58, 13.25 examples/s]Token indices sequence length is longer than the specified maximum sequence length for this model (59308 > 32768). Running this sequence through the model will result in indexing errors\n",
      "Map (num_proc=40):  42%|████▏     | 3959/9459 [06:43<35:48,  2.56 examples/s]Token indices sequence length is longer than the specified maximum sequence length for this model (73861 > 32768). Running this sequence through the model will result in indexing errors\n",
      "Map (num_proc=40):  44%|████▍     | 4144/9459 [06:56<29:05,  3.05 examples/s]  Token indices sequence length is longer than the specified maximum sequence length for this model (349611 > 32768). Running this sequence through the model will result in indexing errors\n",
      "Map (num_proc=40):  46%|████▌     | 4322/9459 [07:09<26:36,  3.22 examples/s]Token indices sequence length is longer than the specified maximum sequence length for this model (775335 > 32768). Running this sequence through the model will result in indexing errors\n",
      "Map (num_proc=40):  48%|████▊     | 4546/9459 [07:22<12:20,  6.64 examples/s]Token indices sequence length is longer than the specified maximum sequence length for this model (86818 > 32768). Running this sequence through the model will result in indexing errors\n",
      "Map (num_proc=40):  52%|█████▏    | 4958/9459 [07:36<14:59,  5.00 examples/s]Token indices sequence length is longer than the specified maximum sequence length for this model (92213 > 32768). Running this sequence through the model will result in indexing errors\n",
      "Map (num_proc=40):  57%|█████▋    | 5379/9459 [07:44<00:58, 69.56 examples/s]Token indices sequence length is longer than the specified maximum sequence length for this model (70542 > 32768). Running this sequence through the model will result in indexing errors\n",
      "Map (num_proc=40):  61%|██████▏   | 5803/9459 [07:59<01:52, 32.36 examples/s]Token indices sequence length is longer than the specified maximum sequence length for this model (64970 > 32768). Running this sequence through the model will result in indexing errors\n",
      "Map (num_proc=40):  66%|██████▌   | 6230/9459 [08:17<02:17, 23.44 examples/s]Token indices sequence length is longer than the specified maximum sequence length for this model (54534 > 32768). Running this sequence through the model will result in indexing errors\n",
      "Map (num_proc=40):  69%|██████▉   | 6556/9459 [08:25<01:24, 34.52 examples/s]Token indices sequence length is longer than the specified maximum sequence length for this model (70780 > 32768). Running this sequence through the model will result in indexing errors\n",
      "Map (num_proc=40):  73%|███████▎  | 6915/9459 [08:40<02:12, 19.16 examples/s]Token indices sequence length is longer than the specified maximum sequence length for this model (154599 > 32768). Running this sequence through the model will result in indexing errors\n",
      "Map (num_proc=40):  77%|███████▋  | 7290/9459 [08:51<01:30, 23.94 examples/s]Token indices sequence length is longer than the specified maximum sequence length for this model (858254 > 32768). Running this sequence through the model will result in indexing errors\n",
      "Map (num_proc=40):  80%|████████  | 7597/9459 [09:16<04:15,  7.30 examples/s]Token indices sequence length is longer than the specified maximum sequence length for this model (247946 > 32768). Running this sequence through the model will result in indexing errors\n",
      "Map (num_proc=40):  80%|████████  | 7599/9459 [09:16<04:39,  6.66 examples/s]Token indices sequence length is longer than the specified maximum sequence length for this model (40453 > 32768). Running this sequence through the model will result in indexing errors\n",
      "Map (num_proc=40):  81%|████████  | 7651/9459 [09:22<03:48,  7.92 examples/s]Token indices sequence length is longer than the specified maximum sequence length for this model (54960 > 32768). Running this sequence through the model will result in indexing errors\n",
      "Map (num_proc=40):  83%|████████▎ | 7856/9459 [09:28<00:50, 31.65 examples/s]Token indices sequence length is longer than the specified maximum sequence length for this model (204534 > 32768). Running this sequence through the model will result in indexing errors\n",
      "Map (num_proc=40): 100%|██████████| 9459/9459 [19:29<00:00,  8.09 examples/s]\n"
     ]
    }
   ],
   "source": [
    "from datasets import Dataset\n",
    "def _map_fn(x):\n",
    "    return {'log_length': count_tokens(x['problem_statement'])}\n",
    "\n",
    "_t = Dataset.from_pandas(data).map(_map_fn, num_proc=40).to_pandas()"
   ]
  },
  {
   "cell_type": "code",
   "execution_count": 16,
   "metadata": {},
   "outputs": [
    {
     "data": {
      "text/plain": [
       "repo\n",
       "bokeh/bokeh                4414\n",
       "conan-io/conan             9361\n",
       "dask/dask                 67398\n",
       "facebookresearch/hydra    93632\n",
       "getmoto/moto              14108\n",
       "iterative/dvc             42632\n",
       "pydantic/pydantic          3802\n",
       "Name: log_length, dtype: int64"
      ]
     },
     "metadata": {},
     "output_type": "display_data"
    },
    {
     "name": "stdout",
     "output_type": "stream",
     "text": [
      "Median of log length across all repo:  18842\n"
     ]
    }
   ],
   "source": [
    "# _t = (data.assign(log_length=lambda x: x['problem_statement'].progress_apply(count_tokens)))\n",
    "display(\n",
    "    _t\n",
    "    .groupby('repo')['log_length'].median().astype(int).sort_index()\n",
    ")\n",
    "print(\n",
    "    f\"Median of log length across all repo: \",\n",
    "    _t['log_length'].median().astype(int)\n",
    ")"
   ]
  },
  {
   "cell_type": "markdown",
   "metadata": {},
   "source": [
    "## Type of variants "
   ]
  },
  {
   "cell_type": "code",
   "execution_count": null,
   "metadata": {},
   "outputs": [
    {
     "name": "stdout",
     "output_type": "stream",
     "text": [
      "Number of test-coverage based selection variants: 3867 (40.88%)\n",
      "Number of random selection variants: 5592 (59.12%)\n"
     ]
    }
   ],
   "source": [
    "num_test_coverage_based_variants = len(variants_metadata[variants_metadata['mutation_info'].apply(lambda y: y['strategy']) == 'PriorityAwareMutationStrategy'])\n",
    "print(f\"Number of test-coverage based selection variants: {num_test_coverage_based_variants} ({num_test_coverage_based_variants / len(variants_metadata):.2%})\")\n",
    "print(f\"Number of random selection variants: {len(variants_metadata) - num_test_coverage_based_variants} ({(len(variants_metadata) - num_test_coverage_based_variants) / len(variants_metadata):.2%})\")"
   ]
  },
  {
   "cell_type": "code",
   "execution_count": null,
   "metadata": {},
   "outputs": [],
   "source": []
  }
 ],
 "metadata": {
  "kernelspec": {
   "display_name": "SynBugs",
   "language": "python",
   "name": "python3"
  },
  "language_info": {
   "codemirror_mode": {
    "name": "ipython",
    "version": 3
   },
   "file_extension": ".py",
   "mimetype": "text/x-python",
   "name": "python",
   "nbconvert_exporter": "python",
   "pygments_lexer": "ipython3",
   "version": "3.12.0"
  }
 },
 "nbformat": 4,
 "nbformat_minor": 2
}
